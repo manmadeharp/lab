{
 "cells": [
  {
   "cell_type": "markdown",
   "metadata": {},
   "source": [
    "# Direct geometry for 2d robots"
   ]
  },
  {
   "cell_type": "markdown",
   "metadata": {},
   "source": [
    "This notebook aims at illustrating a kinematic tree and discussing the notions of forward geometry. The Pinocchio library natively provides some of the elements we are going to develop, but we will do without it to get a better understanding of how these notions are concretely applied. \n",
    "\n",
    "We will use a basic geometry API to build a robot and display it within the in-browser viewer meshcat."
   ]
  },
  {
   "cell_type": "markdown",
   "metadata": {},
   "source": [
    "**Important: to make sure your repository is easily updated from git shall it be needed, create a copy of this notebook before working on it.**"
   ]
  },
  {
   "cell_type": "code",
   "execution_count": 1,
   "metadata": {},
   "outputs": [
    {
     "name": "stdout",
     "output_type": "stream",
     "text": [
      "NB: as for all the tutorials, a magic command %do_not_load is introduced to hide the solutions to some questions. Change it for %load if you want to see (and execute) the solution.\n"
     ]
    }
   ],
   "source": [
    "import magic_donotload"
   ]
  },
  {
   "cell_type": "markdown",
   "metadata": {},
   "source": [
    "## Set up\n",
    "We will need NumPy and MeshCat Viewer for vizualizing the robot. We will also use a helper function later in the tutorial."
   ]
  },
  {
   "cell_type": "code",
   "execution_count": 2,
   "metadata": {},
   "outputs": [],
   "source": [
    "# %load tp1/generated/configuration_reduced_import\n",
    "import time\n",
    "import numpy as np\n",
    "from scipy.optimize import fmin_bfgs,fmin_slsqp\n",
    "from utils.meshcat_viewer_wrapper import MeshcatVisualizer,translation2d,planar\n",
    "from numpy.linalg import norm,inv,pinv,svd,eig\n",
    "from pinocchio.rpy import matrixToRpy\n",
    "import pinocchio as pin"
   ]
  },
  {
   "cell_type": "markdown",
   "metadata": {},
   "source": [
    "<a id='section_display_objects'></a>\n",
    "## Displaying objects\n",
    "Let's first learn how to open a 3D viewer, in which we will build our simulator. We will use the viewer MeshCat which directly displays in a browser. Open it as follows:"
   ]
  },
  {
   "cell_type": "code",
   "execution_count": 3,
   "metadata": {},
   "outputs": [
    {
     "name": "stdout",
     "output_type": "stream",
     "text": [
      "You can open the visualizer by visiting the following URL:\n",
      "http://127.0.0.1:7000/static/\n"
     ]
    },
    {
     "data": {
      "text/html": [
       "\n",
       "            <div style=\"height: 400px; width: 100%; overflow-x: auto; overflow-y: hidden; resize: both\">\n",
       "            <iframe src=\"http://127.0.0.1:7000/static/\" style=\"width: 100%; height: 100%; border: none\"></iframe>\n",
       "            </div>\n",
       "            "
      ],
      "text/plain": [
       "<IPython.core.display.HTML object>"
      ]
     },
     "execution_count": 3,
     "metadata": {},
     "output_type": "execute_result"
    }
   ],
   "source": [
    "viz = MeshcatVisualizer()\n",
    "viz.viewer.jupyter_cell()"
   ]
  },
  {
   "cell_type": "markdown",
   "metadata": {},
   "source": [
    "You can click on the link above to open the client in a new window, which will be more convenient for seeing your results as you go.\n",
    "\n",
    "The obtained <viz> object is a client of the viewer, i.e. it will be use to pass display command to the viewer. \n",
    "    \n",
    "\n",
    "**warning**: if you run again the cell above, you will create a new client and the connection to the former will be lost.\n",
    "   \n",
    "Take so time to familiarise yourself with the GUI with the mouse, holding the left / right buttons of the mouse and using the scroll wheel.\n",
    "    \n",
    "Let's now populate our scene:"
   ]
  },
  {
   "cell_type": "code",
   "execution_count": 4,
   "metadata": {},
   "outputs": [],
   "source": [
    "cylID  = 'world/cyl' ;  viz.addCylinder(cylID,length=1,radius=.1,color=[0,0,1,1])\n",
    "ballID = 'world/ball';  viz.addSphere(ballID,.2,[1,0,0,1])\n",
    "boxID  = 'world/box' ;  viz.addBox(boxID,[.5,.2,.4],[1,1,0,1])"
   ]
  },
  {
   "cell_type": "markdown",
   "metadata": {},
   "source": [
    "You can take some time to play with the parameters and understand their meaning.\n",
    "\n",
    "The \\*ID strings serve as unique identifier to the object.\n",
    "You can recreate objects using the same ID, which will simply replace your object by another one. If you want to delete one object, simply run:\n"
   ]
  },
  {
   "cell_type": "code",
   "execution_count": 5,
   "metadata": {},
   "outputs": [],
   "source": [
    "viz.delete(ballID)"
   ]
  },
  {
   "cell_type": "markdown",
   "metadata": {},
   "source": [
    "Placing objects can be done using the applyConfiguration command, and specifying a displacement as list of 7 values. The first three values indicate the 3D position of the **center of the object**. The last 4 values are a normalised quaternion that describes the 3D orientation of the object."
   ]
  },
  {
   "cell_type": "code",
   "execution_count": 6,
   "metadata": {},
   "outputs": [],
   "source": [
    "viz.applyConfiguration(cylID,[.1,.2,.3,1,0,0,0])"
   ]
  },
  {
   "cell_type": "markdown",
   "metadata": {},
   "source": [
    "We will first work in 2D. \n",
    "Usually when working in 2D, we refer to the x/y plane, with rotations happening around the z plane.\n",
    "We will work under these assumptions.\n",
    "\n",
    "However, since the z plan is pointing upward, for convenience the display will happen in the y/z planes, and rotations around the x axis. This is all handled internally thanks to the *planar* helper function provided for you. If you are curious please do explore the code for planar in the utils folder.\n",
    "\n",
    "In summary, to place an object given a triplet x,y,theta, we can call:"
   ]
  },
  {
   "cell_type": "code",
   "execution_count": 7,
   "metadata": {},
   "outputs": [],
   "source": [
    "viz.applyConfiguration(boxID,planar(0.1, 0.2, np.pi / 3))\n",
    "viz.applyConfiguration(cylID,planar(0.1, 0.2, 5*np.pi / 6))"
   ]
  },
  {
   "cell_type": "markdown",
   "metadata": {},
   "source": [
    "That's all we need for now regarding the GUI. Now let's move to the actual forward geometry problem\n",
    "\n",
    "## Forward geometry on a 2D robot\n",
    "We are going to model the kinematic tree of a 2D manipulator robot. Our objective is to compute the end-effector position given a configuration of the robot.\n"
   ]
  },
  {
   "cell_type": "markdown",
   "metadata": {},
   "source": [
    "### Robot model of a 3-Link Planar Manipulator\n",
    "\n",
    "<table>\n",
    "    <tr>\n",
    "        <td><img src=\"tp1/3-link-angles.png\" style=\"width: 300px;\"> </td>\n",
    "        <td><img src=\"tp1/3-link-frames.png\" style=\"width: 280px;\"> </td>\n",
    "    </tr>\n",
    "    <tr>\n",
    "        <td style=\"text-align:center\">Diagram of the links and joints</td>\n",
    "        <td style=\"text-align:center\">Diagram of the frames</td>\n",
    "    </tr>\n",
    "</table>\n",
    "\n",
    "\n",
    "\n"
   ]
  },
  {
   "cell_type": "markdown",
   "metadata": {},
   "source": [
    "Consider the planar manipulator indicated in the above figure. It consists in a set of rigid bodies constrained together by joints (in this case, they are all revolute joints around the z axis).\n",
    "\n",
    "The respective length of each body 1, 2 and 3 is given by the constants $l_1, l_2$ and $l_3 \\in \\mathbb{R}$. The current rotation about each of the three joints is given by ${\\theta}_1, {\\theta}_2$ and ${\\theta}_3 \\in [-\\pi,\\pi]$. To each body $i$ a frame is conveniently placed to minimise the calculations. The **frame {O}** is constant (e.g. a point on the ground), and we make it coincide with the origin. The **end-effector** $\\mathbf{e} \\in \\mathbb{R}^3$ is the manipulator attached at the end of the body {C} which is the black gripper.\n"
   ]
  },
  {
   "cell_type": "markdown",
   "metadata": {},
   "source": [
    "Let us create the three bodies that compose our robot, but first let us clear the scene:\n"
   ]
  },
  {
   "cell_type": "code",
   "execution_count": 8,
   "metadata": {},
   "outputs": [],
   "source": [
    "viz.clean() #be careful, this deletes the whole scene"
   ]
  },
  {
   "cell_type": "code",
   "execution_count": 9,
   "metadata": {},
   "outputs": [],
   "source": [
    "# %load tp1/generated/configuration_reduced_create\n",
    "bodynames  = ['body'+str(i) for i in range(4)]\n",
    "jointnames = ['joint'+str(i) for i in range(4)]\n",
    "\n",
    "#defining some constants\n",
    "# feel free to play with these\n",
    "l1 = l2 = .75\n",
    "l3 = 0.4\n",
    "bodywidth = 0.05 \n",
    "rootwidth = bodywidth * 3\n",
    "jointwidth = 0.08\n",
    "\n",
    "#colors\n",
    "bodycolor  = [.65,.65,.65,1] #grey\n",
    "jointcolor = [1,0,0,1] #red\n",
    "\n",
    "#creating bodies\n",
    "viz.addBox     (bodynames[0],[rootwidth for _ in range(3)],bodycolor)\n",
    "viz.addCylinder(bodynames[1],l1,bodywidth,bodycolor)\n",
    "viz.addCylinder(bodynames[2],l2,bodywidth,bodycolor)\n",
    "viz.addCylinder(bodynames[3],l3,bodywidth,bodycolor)\n",
    "    \n",
    "#creating joints\n",
    "for i in range(4):\n",
    "    viz.addSphere(jointnames[i],jointwidth,jointcolor)\n",
    "    \n",
    "#end-effector marker\n",
    "viz.addSphere(\"effector\",jointwidth,[0,0,1,1]) #blue\n"
   ]
  },
  {
   "cell_type": "markdown",
   "metadata": {},
   "source": [
    "### Homogeneous Transformation Matrix\n",
    "\n",
    "We will use the homogeneous transformation matrix representation to conveniently group the rotation and translation of a frame into a single matrix form: \n",
    "<br/> \n",
    "<br/> \n",
    "$$\n",
    "\\mathbf{M} =\n",
    "\\begin{bmatrix}\n",
    "\\mathbf{R} & \\mathbf{p} \\\\\n",
    "\\mathbf{0}_{1x3} & 1\n",
    "\\end{bmatrix} \n",
    "=\n",
    "\\begin{bmatrix}\n",
    "r_{11} & r_{12} & r_{13} & x \\\\\n",
    "r_{21} & r_{22} & r_{23} & y \\\\\n",
    "r_{31} & r_{32} & r_{33} & z \\\\\n",
    "0 & 0 & 0 & 1\n",
    "\\end{bmatrix} \n",
    "$$\n",
    "\n",
    "<br/>\n"
   ]
  },
  {
   "cell_type": "markdown",
   "metadata": {},
   "source": [
    "<img src=\"tp1/frames.png\" style=\"width: 600px;\">\n"
   ]
  },
  {
   "cell_type": "markdown",
   "metadata": {},
   "source": [
    "Given the position of a $^B\\mathbf{p}$ in a frame {B}, the position $^A\\mathbf{p}$ in the frame {A} is given by the relationship $\\newline$\n",
    "\n",
    "$$\n",
    "\\begin{bmatrix}\n",
    "^A\\mathbf{p} \\\\\n",
    "1\n",
    "\\end{bmatrix}  \n",
    " = {^A}\\mathbf{M}_B\n",
    "\\begin{bmatrix}\n",
    "^B\\mathbf{p} \\\\\n",
    "1\n",
    "\\end{bmatrix} \n",
    "$$ \n",
    "\n",
    "which is equivalent to $\\newline$\n",
    "\n",
    "<center>$^A\\mathbf{p} = {^A}\\mathbf{R}_B {^B\\mathbf{p}} +  \\overrightarrow{\\mathbf{o}_A\\mathbf{o}_B}$ </center> \n",
    "\n",
    "\n",
    "In our case, we will only be working with 2D rotations, such that the transformations can be defined using one less dimension:\n",
    "\n",
    "<br/>\n",
    "$$\n",
    "\\mathbf{M} =\n",
    "\\begin{bmatrix}\n",
    "\\mathbf{R} & \\overrightarrow{\\mathbf{o}_A\\mathbf{o}_B} \\\\\n",
    "\\mathbf{0}_{1x2} & 1\n",
    "\\end{bmatrix} \n",
    "=\n",
    "\\begin{bmatrix}\n",
    "r_{11} & r_{12} & x \\\\\n",
    "r_{21} & r_{22} & y \\\\\n",
    "0 & 0 & 1 \n",
    "\\end{bmatrix} \n",
    "$$\n",
    "\n",
    "<br/>\n",
    "All the rotations are defined around the z axis, such that the rotation matrices are defined straightforwardly as a function of the rotation angle $\\theta$:\n",
    "\n",
    "$$\n",
    "\\mathbf{R}(\\theta)\n",
    "=\n",
    "\\left(\\begin{array}{cc}\n",
    "cos(\\theta) & -sin(\\theta) & 0\\\\\n",
    "sin(\\theta) & cos(\\theta) & 0 \\\\\n",
    "0 &  0 & 1 \\\\\n",
    "\\end{array}\\right) \n",
    "$$\n"
   ]
  },
  {
   "cell_type": "markdown",
   "metadata": {},
   "source": [
    "The position ${^C}\\mathbf{e}$ is constant. Give its expression (you can load the answer if you need it)"
   ]
  },
  {
   "cell_type": "code",
   "execution_count": 10,
   "metadata": {},
   "outputs": [],
   "source": [
    "# %do_not_load tp1/generated/ce\n",
    "ce = np.array([0,l3,0,1.])"
   ]
  },
  {
   "cell_type": "markdown",
   "metadata": {},
   "source": [
    "Lets write the helper function *R(theta)*, which computes the rotation matrix $\\mathbf{R}(\\theta)$:"
   ]
  },
  {
   "cell_type": "code",
   "execution_count": 11,
   "metadata": {},
   "outputs": [],
   "source": [
    "def R_z(theta):\n",
    "    c = np.cos(theta)\n",
    "    s = np.sin(theta)\n",
    "    return np.array([[c,-s,0], [s,c,0], [0,0,1]])\n",
    "def R_y(theta):\n",
    "    c = np.cos(theta)\n",
    "    s = np.sin(theta)\n",
    "    return np.array([[c,0,s], [0,1,0], [-s,0,c]])\n",
    "def R_x(theta):\n",
    "    c = np.cos(theta)\n",
    "    s = np.sin(theta)\n",
    "    return np.array([[1,0,0], [0,c,-s], [0,s,c]])"
   ]
  },
  {
   "cell_type": "markdown",
   "metadata": {},
   "source": [
    "Now provide the code for a function *bMc(theta3)*, which computes the matrix ${^B}\\mathbf{M}_C$ as a function ot $\\theta_3$"
   ]
  },
  {
   "cell_type": "code",
   "execution_count": 12,
   "metadata": {},
   "outputs": [],
   "source": [
    "# %do_not_load tp1/generated/bMc\n",
    "def bMc(theta3):\n",
    "    M = np.zeros((4,4)) #4*4 matrix\n",
    "    M[:3,:3] = R_x(theta3) # replace with rotation matrix\n",
    "    M[:3, 3] = [0, l2, 0]# replace with translation part\n",
    "    M[3,3] = 1\n",
    "    return M"
   ]
  },
  {
   "cell_type": "markdown",
   "metadata": {},
   "source": [
    "Define the remaining transformations in a similar fashion"
   ]
  },
  {
   "cell_type": "code",
   "execution_count": 13,
   "metadata": {},
   "outputs": [],
   "source": [
    "# %do_not_load tp1/generated/xMy\n",
    "# %do_not_load tp1/generated/bMc\n",
    "def aMb(theta2):\n",
    "    M = np.zeros((4,4)) #4*4 matrix\n",
    "    M[:3,:3] = R_z(theta2) # replace with rotation matrix\n",
    "    M[:3, 3] = [0, l1, 0]# replace with translation part\n",
    "    M[3,3] = 1\n",
    "    return M\n",
    "\n",
    "# %do_not_load tp1/generated/bMc\n",
    "def oMa(theta1):\n",
    "    M = np.zeros((4,4)) #4*4 matrix\n",
    "    M[:3,:3] = R_x(theta1) # replace with rotation matrix\n",
    "    M[:3, 3] = [0, 0, 0]# replace with translation part\n",
    "    M[3,3] = 1\n",
    "    return M"
   ]
  },
  {
   "cell_type": "markdown",
   "metadata": {},
   "source": [
    "Given a configuration vector q of dimension 3, we can now compute the position of the centers of each object using forward geometry and correctly display the robot"
   ]
  },
  {
   "cell_type": "code",
   "execution_count": 14,
   "metadata": {},
   "outputs": [],
   "source": [
    "# %load tp1/generated/configuration_reduced_display\n",
    "#computes all the transformation matrices and returns the end effector position in the origin frame\n",
    "def forwardgeometry(q):\n",
    "    return [oMa(q[0]),aMb(q[1]),bMc(q[2])]\n",
    "\n",
    "#computes the end effector position\n",
    "def effector(q):\n",
    "    return oMa(q[0]) @ aMb(q[1]) @ bMc(q[2]) @ ce\n",
    "\n",
    "def sgn(b):\n",
    "    return np.sign(b)\n",
    "\n",
    "def rotation2quaternion(R):\n",
    "    '''Convert a Rotation matrix into it's equivalent unit quaternion'''\n",
    "    return pin.Quaternion(R).coeffs().tolist().copy()\n",
    "#     The following are the calculations for this conversion I got from Robotics: Modelling, Planning and Control \n",
    "#     phi = 0.5 * np.sqrt(R[0,0] + R[1,1] + R[2,2] + 1)\n",
    "#     ijk = [-0.5 * sgn(R[2,1] - R[1,2]) * np.sqrt(R[0,0] - R[1,1] - R[2,2] + 1), \n",
    "#            0.5 * sgn(R[0,2] - R[2,0]) * np.sqrt(R[1,1] - R[2,2] - R[0,0] + 1), \n",
    "#            0.5 * sgn(R[1,0] - R[0,1]) * np.sqrt(R[2,2] - R[0,0] - R[1,1] + 1)\n",
    "#           ]\n",
    "#     return ijk + [phi]\n",
    "\n",
    "def compute_joint_config(jointname, jointPos):\n",
    "        #display joint i\n",
    "        viz.applyConfiguration(jointname,\n",
    "                               [jointPos[0], jointPos[1], jointPos[2]] \n",
    "                               + [0,0,0,0])\n",
    "        \n",
    "def compute_body_config(bodyname, bodycenter, rotation):\n",
    "        #display body i\n",
    "        body_orientation = rotation2quaternion(rotation[:3,:3].copy())\n",
    "        viz.applyConfiguration(bodyname,\n",
    "                               [bodycenter[0], bodycenter[1], bodycenter[2]] \n",
    "                               + body_orientation)\n",
    "\n",
    "def display(q):\n",
    "    '''Compute forward geometry and \n",
    "    Display the robot in the viewer. '''\n",
    "    xMys = forwardgeometry(q.copy())\n",
    "    currenttransform = np.eye(4)\n",
    "    currentjointpos = np.zeros(3)\n",
    "    transformation_array = []\n",
    "    \n",
    "    new_joint_pos = oMa(q[0])[:3, -1]\n",
    "    compute_joint_config(jointnames[0], new_joint_pos)\n",
    "    new_body_orientation = np.eye(4)# Edit here for box rotation\n",
    "    new_bodycenter = [0,0,0] #currentjointpos + (new_joint_pos - currentjointpos) /2\n",
    "    compute_body_config(bodynames[0], new_bodycenter, new_body_orientation )\n",
    "    \n",
    "    \n",
    "    currentjointpos = new_joint_pos\n",
    "    new_joint_pos = ( oMa(q[0]) @ aMb(q[1]) )[:3, -1]\n",
    "    compute_joint_config(jointnames[1], new_joint_pos)\n",
    "    new_bodycenter = currentjointpos + (new_joint_pos - currentjointpos) /2\n",
    "    new_body_orientation = ( oMa(q[0]) )\n",
    "    compute_body_config(bodynames[1], new_bodycenter, new_body_orientation )\n",
    "    \n",
    "\n",
    "    currentjointpos = new_joint_pos\n",
    "    new_joint_pos = ( oMa(q[0]) @ aMb(q[1]) @ bMc(q[2]))[:3, -1]\n",
    "    compute_joint_config(jointnames[2], new_joint_pos)\n",
    "    new_bodycenter = currentjointpos + (new_joint_pos - currentjointpos) /2\n",
    "    new_body_orientation = ( oMa(q[0]) @ aMb(q[1]) )\n",
    "    compute_body_config(bodynames[2], new_bodycenter, new_body_orientation )\n",
    "    currentjointpos = new_joint_pos\n",
    "\n",
    "    currentjointpos = new_joint_pos\n",
    "    new_joint_pos = ( oMa(q[0]) @ aMb(q[1]) @ bMc(q[2]) @ ce)[:3]\n",
    "    compute_joint_config(\"effector\", new_joint_pos)\n",
    "    new_bodycenter = currentjointpos + (new_joint_pos - currentjointpos) /2\n",
    "    new_body_orientation = ( oMa(q[0]) @ aMb(q[1]) @ bMc(q[2]) )\n",
    "    compute_body_config(bodynames[3], new_bodycenter, new_body_orientation )\n",
    "    currentjointpos = new_joint_pos        \n"
   ]
  },
  {
   "cell_type": "code",
   "execution_count": 15,
   "metadata": {},
   "outputs": [],
   "source": [
    "q = np.random.rand(3) * np.pi *2 - np.pi # angles between pi and -pi\n",
    "q= np.array([0.35,0.87,0.78])*np.pi\n",
    "display(q) # Display the robot under configuration q in the viewer"
   ]
  },
  {
   "cell_type": "markdown",
   "metadata": {},
   "source": [
    "## To go further\n",
    "Here are a couple of variations you can decide to investigate to make sure you understood how forward geometry works:\n",
    "\n",
    "+ Add the root of the robot at a different frame (position + orientation) than the origin \n",
    "+ In our choice of frame the body is aligned with one axis. Choose arbitrary frames for which the body is not aligned with any axis and work out the forward geometry equations.\n",
    "+ Add a prismatic joint at the end of body C and update the display function accordingly (ie the length of object used to represent the joint must change as the parameter changes).\n",
    "+ Go 3D: assign a different axis of rotation to each joint and work out again the equations\n",
    "\n",
    "We won't give the solutions for these cases but you are welcome to discuss them on Piazza"
   ]
  },
  {
   "cell_type": "code",
   "execution_count": null,
   "metadata": {},
   "outputs": [],
   "source": []
  },
  {
   "cell_type": "code",
   "execution_count": null,
   "metadata": {},
   "outputs": [],
   "source": []
  }
 ],
 "metadata": {
  "kernelspec": {
   "display_name": "Python 3 (ipykernel)",
   "language": "python",
   "name": "python3"
  },
  "language_info": {
   "codemirror_mode": {
    "name": "ipython",
    "version": 3
   },
   "file_extension": ".py",
   "mimetype": "text/x-python",
   "name": "python",
   "nbconvert_exporter": "python",
   "pygments_lexer": "ipython3",
   "version": "3.13.5"
  }
 },
 "nbformat": 4,
 "nbformat_minor": 2
}
